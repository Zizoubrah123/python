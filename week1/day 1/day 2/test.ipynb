{
 "cells": [
  {
   "cell_type": "code",
   "execution_count": null,
   "metadata": {},
   "outputs": [
    {
     "ename": "",
     "evalue": "",
     "output_type": "error",
     "traceback": [
      "\u001b[1;31mRunning cells with 'c:\\Users\\Zus\\AppData\\Local\\Programs\\Python\\Python311\\python.exe' requires the ipykernel package.\n",
      "\u001b[1;31mRun the following command to install 'ipykernel' into the Python environment. \n",
      "\u001b[1;31mCommand: 'c:/Users/Zus/AppData/Local/Programs/Python/Python311/python.exe -m pip install ipykernel -U --user --force-reinstall'"
     ]
    }
   ],
   "source": [
    "class user:\n",
    "\n",
    "    def __init__(self, first_name, last_name, email, age, is_rewards_member, gold_card_points  ):\n",
    "\n",
    "        self.first_name = first_name\n",
    "        self.last_name = last_name\n",
    "        self.email = email\n",
    "        self.age = age\n",
    "        self.is_rewards_member : False\n",
    "        self.gold_card_points = gold_card_points\n",
    "\n",
    "    def display_info (self):\n",
    "        print(f\"Hello, my name is {self.first_name} {self.last_name} my email is {self.email} and im {self.age} years old\")\n",
    "\n",
    "    def spend_points (self, amount):\n",
    "        self.gold_card_points=self.gold_card_points-amount\n",
    "        return self.gold_card_points\n",
    "\n",
    "user1 = user(\"aziz\", \"barrah\", \"example@gmail.com\", 19, True)\n",
    "user2 = user(\"maram\", \"betaib\", \"maramBeitaib@gmail.com\", 17,200 )\n",
    "\n",
    "user1.display_info();\n",
    "user2.display_info();\n",
    "\n"
   ]
  }
 ],
 "metadata": {
  "kernelspec": {
   "display_name": "Python 3",
   "language": "python",
   "name": "python3"
  },
  "language_info": {
   "name": "python",
   "version": "3.11.3"
  },
  "orig_nbformat": 4
 },
 "nbformat": 4,
 "nbformat_minor": 2
}
